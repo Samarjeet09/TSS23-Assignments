{
  "cells": [
    {
      "cell_type": "markdown",
      "metadata": {
        "id": "view-in-github",
        "colab_type": "text"
      },
      "source": [
        "<a href=\"https://colab.research.google.com/github/Samarjeet09/TSS23-Assignments/blob/main/Assignment01/Assignment01.ipynb\" target=\"_parent\"><img src=\"https://colab.research.google.com/assets/colab-badge.svg\" alt=\"Open In Colab\"/></a>"
      ]
    },
    {
      "cell_type": "markdown",
      "metadata": {
        "id": "Zj_kmgNKkGuv"
      },
      "source": [
        "### Q1. L is a list defined as L= [11, 12, 13, 14]."
      ]
    },
    {
      "cell_type": "code",
      "execution_count": null,
      "metadata": {
        "id": "uR5ybJqckGuz"
      },
      "outputs": [],
      "source": [
        "L = [11,12,13,14]"
      ]
    },
    {
      "cell_type": "markdown",
      "metadata": {
        "id": "w02bFppUkGu3"
      },
      "source": [
        "(i) WAP to add 50 and 60 to L. "
      ]
    },
    {
      "cell_type": "code",
      "execution_count": null,
      "metadata": {
        "colab": {
          "base_uri": "https://localhost:8080/"
        },
        "id": "2cpWJP6SkGu3",
        "outputId": "b76261cf-d290-41e3-a14b-3ee84f339726"
      },
      "outputs": [
        {
          "output_type": "stream",
          "name": "stdout",
          "text": [
            "[11, 12, 13, 14, 50, 60]\n"
          ]
        }
      ],
      "source": [
        "L.append(50)\n",
        "L.append(60)\n",
        "print(L)"
      ]
    },
    {
      "cell_type": "markdown",
      "metadata": {
        "id": "8SswmGl-kGu5"
      },
      "source": [
        "(ii) WAP to remove 11 and 13from L."
      ]
    },
    {
      "cell_type": "code",
      "execution_count": null,
      "metadata": {
        "colab": {
          "base_uri": "https://localhost:8080/"
        },
        "id": "zeSJD85akGu5",
        "outputId": "c0cd1395-9c85-4208-9e7e-da42af68ad74"
      },
      "outputs": [
        {
          "output_type": "execute_result",
          "data": {
            "text/plain": [
              "[12, 14, 50, 60]"
            ]
          },
          "metadata": {},
          "execution_count": 7
        }
      ],
      "source": [
        "L.remove(11)\n",
        "L.remove(13)\n",
        "L"
      ]
    },
    {
      "cell_type": "markdown",
      "metadata": {
        "id": "QWrA865BkGu6"
      },
      "source": [
        "(iii) WAP to sort L in ascending order."
      ]
    },
    {
      "cell_type": "code",
      "execution_count": null,
      "metadata": {
        "colab": {
          "base_uri": "https://localhost:8080/"
        },
        "id": "39enTMRNkGu6",
        "outputId": "8c9bec59-9180-4fa3-f807-2a0f7a7a2cd8"
      },
      "outputs": [
        {
          "output_type": "stream",
          "name": "stdout",
          "text": [
            "[12, 14, 50, 60]\n"
          ]
        }
      ],
      "source": [
        "print(sorted(L))"
      ]
    },
    {
      "cell_type": "markdown",
      "metadata": {
        "id": "EZfRZh-1kGu6"
      },
      "source": [
        "(iv) WAP to sort L in descending order."
      ]
    },
    {
      "cell_type": "code",
      "execution_count": null,
      "metadata": {
        "colab": {
          "base_uri": "https://localhost:8080/"
        },
        "id": "ryel8kaIkGu7",
        "outputId": "8b49183b-92af-4ddf-a180-160cb95dc97c"
      },
      "outputs": [
        {
          "output_type": "stream",
          "name": "stdout",
          "text": [
            "[60, 50, 14, 12]\n",
            "[60, 50, 14, 12]\n"
          ]
        }
      ],
      "source": [
        "print(sorted(L,reverse=True))\n",
        "print(sorted(L)[::-1])"
      ]
    },
    {
      "cell_type": "markdown",
      "metadata": {
        "id": "OFEGs9jtkGu7"
      },
      "source": [
        "(v) WAP to search for 13 in L"
      ]
    },
    {
      "cell_type": "code",
      "execution_count": null,
      "metadata": {
        "colab": {
          "base_uri": "https://localhost:8080/"
        },
        "id": "BfWK1mTAkGu7",
        "outputId": "90d03122-3790-4669-8d91-1f5d98e40b5c"
      },
      "outputs": [
        {
          "output_type": "stream",
          "name": "stdout",
          "text": [
            "no\n"
          ]
        }
      ],
      "source": [
        "if (13 in L ):\n",
        "    print(\"yes\")\n",
        "else:\n",
        "    print(\"no\")"
      ]
    },
    {
      "cell_type": "markdown",
      "metadata": {
        "id": "RMNvnlYYkGu8"
      },
      "source": [
        "(vi) WAP to count the number of elements present in L."
      ]
    },
    {
      "cell_type": "code",
      "execution_count": null,
      "metadata": {
        "colab": {
          "base_uri": "https://localhost:8080/"
        },
        "id": "ZQ9eTADrkGu8",
        "outputId": "340e5087-6a7a-458a-eaf5-78a5fac978ea"
      },
      "outputs": [
        {
          "output_type": "stream",
          "name": "stdout",
          "text": [
            "4\n"
          ]
        }
      ],
      "source": [
        "print(len(L))\n"
      ]
    },
    {
      "cell_type": "markdown",
      "metadata": {
        "id": "52HJyr_PkGu8"
      },
      "source": [
        "(vii) WAP to sum all the elements in L."
      ]
    },
    {
      "cell_type": "code",
      "execution_count": null,
      "metadata": {
        "colab": {
          "base_uri": "https://localhost:8080/"
        },
        "id": "X7n0LM6GkGu8",
        "outputId": "5812c76e-ce8c-414f-a674-f41b6e9e1b23"
      },
      "outputs": [
        {
          "output_type": "stream",
          "name": "stdout",
          "text": [
            "136\n"
          ]
        }
      ],
      "source": [
        "print(sum(L))"
      ]
    },
    {
      "cell_type": "markdown",
      "metadata": {
        "id": "n5KBCq68kGu9"
      },
      "source": [
        "(viii) WAP to sum all ODD numbers in L.\n"
      ]
    },
    {
      "cell_type": "code",
      "execution_count": null,
      "metadata": {
        "id": "PRKQSYQgkGu9"
      },
      "outputs": [],
      "source": [
        "\n"
      ]
    },
    {
      "cell_type": "markdown",
      "metadata": {
        "id": "gPN2cXQVkGu9"
      },
      "source": [
        "(ix) WAP to sum all EVEN numbers in L.\n"
      ]
    },
    {
      "cell_type": "code",
      "execution_count": null,
      "metadata": {
        "colab": {
          "base_uri": "https://localhost:8080/"
        },
        "id": "1wq16VE9kGu9",
        "outputId": "2e4bbda8-1649-4ce6-bd54-1c3943d6719a"
      },
      "outputs": [
        {
          "output_type": "stream",
          "name": "stdout",
          "text": [
            "136\n"
          ]
        }
      ],
      "source": [
        "s = 0\n",
        "for item in L :\n",
        "    if item %2 ==0:\n",
        "        s += item \n",
        "    \n",
        "print(s)"
      ]
    },
    {
      "cell_type": "markdown",
      "metadata": {
        "id": "ErTjKdTukGu-"
      },
      "source": [
        "(x) WAP to sum all PRIME numbers in L.\n"
      ]
    },
    {
      "cell_type": "code",
      "execution_count": null,
      "metadata": {
        "colab": {
          "base_uri": "https://localhost:8080/"
        },
        "id": "lTUfBvhykGu-",
        "outputId": "ce32c1cc-438b-4f73-b46d-48ebe002eff2"
      },
      "outputs": [
        {
          "output_type": "stream",
          "name": "stdout",
          "text": [
            "0\n"
          ]
        }
      ],
      "source": [
        "s=0\n",
        "for i in L:\n",
        "    flag = True\n",
        "    for div in range(2,i//2 +1):\n",
        "        if i%div ==0:\n",
        "            flag = False\n",
        "            break\n",
        "    if flag:\n",
        "        s += i\n",
        "\n",
        "print(s)"
      ]
    },
    {
      "cell_type": "markdown",
      "metadata": {
        "id": "Mcu4p-l-kGu-"
      },
      "source": [
        "(xi) WAP to clear all the elements in L.\n"
      ]
    },
    {
      "cell_type": "code",
      "execution_count": null,
      "metadata": {
        "colab": {
          "base_uri": "https://localhost:8080/"
        },
        "id": "xIBLvaptkGu-",
        "outputId": "72d1deb1-9095-463b-c0b0-1b432f1bb167"
      },
      "outputs": [
        {
          "output_type": "execute_result",
          "data": {
            "text/plain": [
              "[]"
            ]
          },
          "metadata": {},
          "execution_count": 15
        }
      ],
      "source": [
        "L.clear()\n",
        "L"
      ]
    },
    {
      "cell_type": "markdown",
      "metadata": {
        "id": "9vBDb_LykGu_"
      },
      "source": [
        "(xii) WAP to delete L."
      ]
    },
    {
      "cell_type": "code",
      "execution_count": null,
      "metadata": {
        "id": "CYFlXvjYkGu_"
      },
      "outputs": [],
      "source": [
        "del L"
      ]
    },
    {
      "cell_type": "markdown",
      "metadata": {
        "id": "DDO4f9oNkGu_"
      },
      "source": [
        "###Q2. D is a dictionary defined as D= {1:5.6, 2:7.8, 3:6.6, 4:8.7, 5:7.7}.\n",
        "1. WAP to add new entry in D; key=8 and value is 8.8\n",
        "2. WAP to remove key=2.\n",
        "3. WAP to check weather 6 key is present in D.\n",
        "4. WAP to count the number of elements present in D.\n",
        "5. WAP to add all the values present D.\n",
        "6. WAP to update the value of 3 to 7.1.\n",
        "7. WAP to clear the dictionary."
      ]
    },
    {
      "cell_type": "code",
      "execution_count": null,
      "metadata": {
        "id": "dwWZ7NOzkGu_"
      },
      "outputs": [],
      "source": [
        "D= {1:5.6, 2:7.8, 3:6.6, 4:8.7, 5:7.7}"
      ]
    },
    {
      "cell_type": "code",
      "execution_count": null,
      "metadata": {
        "colab": {
          "base_uri": "https://localhost:8080/"
        },
        "id": "9vtGWPkakGu_",
        "outputId": "723e31b0-6142-43eb-92fa-6f07c3c75d28"
      },
      "outputs": [
        {
          "output_type": "execute_result",
          "data": {
            "text/plain": [
              "{1: 5.6, 2: 7.8, 3: 6.6, 4: 8.7, 5: 7.7, 8: 8.8}"
            ]
          },
          "metadata": {},
          "execution_count": 18
        }
      ],
      "source": [
        "D[8]= 8.8\n",
        "D"
      ]
    },
    {
      "cell_type": "code",
      "execution_count": null,
      "metadata": {
        "colab": {
          "base_uri": "https://localhost:8080/"
        },
        "id": "Y-srIfhIkGu_",
        "outputId": "bac206b7-f88a-4a25-8158-1fa0c9ee62df"
      },
      "outputs": [
        {
          "output_type": "execute_result",
          "data": {
            "text/plain": [
              "{1: 5.6, 3: 6.6, 4: 8.7, 5: 7.7, 8: 8.8}"
            ]
          },
          "metadata": {},
          "execution_count": 19
        }
      ],
      "source": [
        "D.pop(2)\n",
        "D"
      ]
    },
    {
      "cell_type": "code",
      "execution_count": null,
      "metadata": {
        "colab": {
          "base_uri": "https://localhost:8080/"
        },
        "id": "aGkl2X_bkGvA",
        "outputId": "9ba0e4ba-72f7-40ee-c1c9-15fa92a70002"
      },
      "outputs": [
        {
          "output_type": "stream",
          "name": "stdout",
          "text": [
            "n\n"
          ]
        }
      ],
      "source": [
        "if 6 in D:\n",
        "    print(\"y\")\n",
        "else:\n",
        "    print('n')"
      ]
    },
    {
      "cell_type": "code",
      "execution_count": null,
      "metadata": {
        "colab": {
          "base_uri": "https://localhost:8080/"
        },
        "id": "cazocS0SkGvA",
        "outputId": "1389ea51-2814-449e-8062-253a664e7456"
      },
      "outputs": [
        {
          "output_type": "stream",
          "name": "stdout",
          "text": [
            "5\n"
          ]
        }
      ],
      "source": [
        "print(len(D))"
      ]
    },
    {
      "cell_type": "code",
      "execution_count": null,
      "metadata": {
        "colab": {
          "base_uri": "https://localhost:8080/"
        },
        "id": "E-6RNmmikGvA",
        "outputId": "1c9caa7f-f610-4c74-dbb4-7120eb67b4e9"
      },
      "outputs": [
        {
          "output_type": "stream",
          "name": "stdout",
          "text": [
            "Sum of keys : 21\n",
            "Sum of Vals : 37.4\n"
          ]
        }
      ],
      "source": [
        "print('Sum of keys :',sum(list(D.keys())))\n",
        "print('Sum of Vals :',sum(list(D.values())))"
      ]
    },
    {
      "cell_type": "code",
      "execution_count": null,
      "metadata": {
        "colab": {
          "base_uri": "https://localhost:8080/"
        },
        "id": "Gg-Ui3crkGvA",
        "outputId": "4841480e-6a1d-43c8-f34c-3fb6cc6d3af2"
      },
      "outputs": [
        {
          "output_type": "execute_result",
          "data": {
            "text/plain": [
              "{1: 5.6, 3: 7.1, 4: 8.7, 5: 7.7, 8: 8.8}"
            ]
          },
          "metadata": {},
          "execution_count": 23
        }
      ],
      "source": [
        "D[3]=7.1\n",
        "D"
      ]
    },
    {
      "cell_type": "code",
      "execution_count": null,
      "metadata": {
        "colab": {
          "base_uri": "https://localhost:8080/"
        },
        "id": "z6P-2je0kGvA",
        "outputId": "8046583c-6e54-4875-da62-d8f5905d4064"
      },
      "outputs": [
        {
          "output_type": "execute_result",
          "data": {
            "text/plain": [
              "{}"
            ]
          },
          "metadata": {},
          "execution_count": 24
        }
      ],
      "source": [
        "D.clear()\n",
        "D"
      ]
    },
    {
      "cell_type": "markdown",
      "metadata": {
        "id": "Vfho6h8nkGvB"
      },
      "source": [
        "### Q3. S1 is a set defined as S1= [10, 20, 30, 40, 50, 60]\n",
        "S2 is a set defined as S2= [40, 50, 60, 70, 80, 90].\n",
        "1. WAP to add 55 and 66 in Set S1.\n",
        "2. WAP to remove 10 and 30 from Set S1.\n",
        "3. WAP to check whether 40 is present in S1.\n",
        "4. WAP to find the union between S1 and S2.\n",
        "5. WAP to find the intersection between S1 and S2.\n",
        "6. WAP to find the S1 - S2.\n"
      ]
    },
    {
      "cell_type": "code",
      "execution_count": null,
      "metadata": {
        "id": "0dqVFELdkGvB"
      },
      "outputs": [],
      "source": [
        "S1= {10, 20, 30, 40, 50, 60}\n",
        "S2= {40, 50, 60, 70, 80, 90}"
      ]
    },
    {
      "cell_type": "code",
      "execution_count": null,
      "metadata": {
        "colab": {
          "base_uri": "https://localhost:8080/"
        },
        "id": "e7TvnOxbkGvB",
        "outputId": "cbe390ce-f8bc-4736-fe4e-911020af1dac"
      },
      "outputs": [
        {
          "output_type": "execute_result",
          "data": {
            "text/plain": [
              "{10, 20, 30, 40, 50, 55, 60, 66}"
            ]
          },
          "metadata": {},
          "execution_count": 26
        }
      ],
      "source": [
        "S1.add(55)\n",
        "S1.add(66)\n",
        "S1"
      ]
    },
    {
      "cell_type": "code",
      "execution_count": null,
      "metadata": {
        "colab": {
          "base_uri": "https://localhost:8080/"
        },
        "id": "nQPZwkyskGvB",
        "outputId": "f6fdcf92-4f6a-45e5-c71f-46b35d2b6496"
      },
      "outputs": [
        {
          "output_type": "execute_result",
          "data": {
            "text/plain": [
              "{20, 40, 50, 55, 60, 66}"
            ]
          },
          "metadata": {},
          "execution_count": 27
        }
      ],
      "source": [
        "S1.remove(10)\n",
        "S1.remove(30)\n",
        "S1"
      ]
    },
    {
      "cell_type": "code",
      "execution_count": null,
      "metadata": {
        "colab": {
          "base_uri": "https://localhost:8080/"
        },
        "id": "ClF9jTDFkGvC",
        "outputId": "bcaa1046-7f36-4a83-8b39-692eb125c722"
      },
      "outputs": [
        {
          "output_type": "stream",
          "name": "stdout",
          "text": [
            "Y\n"
          ]
        }
      ],
      "source": [
        "if 40 in S1 :\n",
        "    print('Y')"
      ]
    },
    {
      "cell_type": "code",
      "execution_count": null,
      "metadata": {
        "colab": {
          "base_uri": "https://localhost:8080/"
        },
        "id": "_FflZ0YpkGvC",
        "outputId": "f643a753-41f7-4be3-a84a-371044fc7789"
      },
      "outputs": [
        {
          "output_type": "stream",
          "name": "stdout",
          "text": [
            "{66, 70, 40, 80, 50, 20, 55, 90, 60}\n",
            "{40, 50, 60}\n",
            "{66, 20, 55}\n"
          ]
        }
      ],
      "source": [
        "print(S1.union(S2))\n",
        "print(S1.intersection(S2))\n",
        "print(S1-S2)"
      ]
    },
    {
      "cell_type": "markdown",
      "metadata": {
        "id": "KzAL86fwkGvC"
      },
      "source": [
        "### Q4. Write the following program.\n",
        "1. WAP to print 100 random strings whose length between 6 and 8.\n",
        "2. WAP to print all prime numbers between 600 and 800.\n",
        "3. WAP to print all numbers between 100 and 1000 that are divisible by 7 and 9"
      ]
    },
    {
      "cell_type": "code",
      "execution_count": null,
      "metadata": {
        "colab": {
          "base_uri": "https://localhost:8080/"
        },
        "id": "4sGC3hhmkGvC",
        "outputId": "4c0e3a04-b5dd-44a8-cf1f-cc7f7eb4a2be"
      },
      "outputs": [
        {
          "output_type": "stream",
          "name": "stdout",
          "text": [
            "abcdefghijklmnopqrstuvwxyzABCDEFGHIJKLMNOPQRSTUVWXYZ\n"
          ]
        }
      ],
      "source": [
        "import random as r \n",
        "import string as s\n",
        "letters = s.ascii_letters\n",
        "print(letters)"
      ]
    },
    {
      "cell_type": "code",
      "execution_count": null,
      "metadata": {
        "colab": {
          "base_uri": "https://localhost:8080/"
        },
        "id": "5QqN5I1bkGvD",
        "outputId": "fc00528f-a006-4b2e-d702-55f2ffc16447"
      },
      "outputs": [
        {
          "output_type": "stream",
          "name": "stdout",
          "text": [
            "lOfKbB\n",
            "OBPHJVF\n",
            "VtvBKM\n",
            "WziPoQn\n",
            "pDmYoiWa\n",
            "EMhULuI\n",
            "QDOHcK\n",
            "ItaxGYiP\n",
            "DQdTsUIP\n",
            "MuJzUpZ\n",
            "wmHelRV\n",
            "cflgBRP\n",
            "LHpewxg\n",
            "npjIoORc\n",
            "dKpwEb\n",
            "dgbcZUo\n",
            "sqOMYDL\n",
            "nWTolI\n",
            "QrSsFj\n",
            "FlJwWmqs\n",
            "KqWxGvn\n",
            "djgzMb\n",
            "QipKUhAd\n",
            "FNdeabq\n",
            "cSunQA\n",
            "uNfMcCd\n",
            "areIyBS\n",
            "eOVnrbl\n",
            "XxelwPa\n",
            "ArmJhQEU\n",
            "wXgHlnh\n",
            "SbfkBwLG\n",
            "DBaUFnRT\n",
            "PpeVgda\n",
            "fRnWyeM\n",
            "OjFrxsB\n",
            "bitXOmB\n",
            "rMINBtWs\n",
            "AcIXyju\n",
            "yEXBhtsc\n",
            "eNOzfK\n",
            "zAyJZHcD\n",
            "lbUSvpP\n",
            "JFQEMg\n",
            "CcUSPG\n",
            "dMeUQjm\n",
            "PTIAjSsq\n",
            "tvxFjgu\n",
            "rhVSBpbm\n",
            "CVfoQR\n",
            "dBqlrQ\n",
            "zVRhqQwO\n",
            "pjJGRDy\n",
            "OzUbCIR\n",
            "SyJOExpw\n",
            "GOrqNx\n",
            "poeMIwld\n",
            "eXSAzKVH\n",
            "xindaF\n",
            "IcHoLYn\n",
            "bsNhtmDq\n",
            "hQAHsSVZ\n",
            "BiTtKAq\n",
            "uSWRasm\n",
            "mRTGkLlb\n",
            "OXFmRyT\n",
            "waeGyQYA\n",
            "cfUkCuy\n",
            "xERglLm\n",
            "pyCUkt\n",
            "HsGxUaWK\n",
            "xsMNXJ\n",
            "tWdOFgZn\n",
            "kRqLwCS\n",
            "QMKaoD\n",
            "nhKFLc\n",
            "ELZojOC\n",
            "dRBAiZ\n",
            "dSnRZmIq\n",
            "lqSuxim\n",
            "HJPFcRMW\n",
            "nbXBmCi\n",
            "umYKDWxH\n",
            "xKPfaFI\n",
            "EAMgrI\n",
            "bSlcywQv\n",
            "LlOAtj\n",
            "nqfyIm\n",
            "smvKNO\n",
            "iTdRCeaH\n",
            "yRoJDAW\n",
            "JGnbHQ\n",
            "winEvzKC\n",
            "SsFPVe\n",
            "HsbNFS\n",
            "HbdYRW\n",
            "JngvwDq\n",
            "xHiXPDJ\n",
            "RfxNKYAW\n",
            "xaqHAC\n"
          ]
        }
      ],
      "source": [
        "for i in range(100):\n",
        "    size = r.randint(6,8)\n",
        "    sam = r.sample(letters,size)\n",
        "    rstr = ''.join(sam)\n",
        "    print(rstr)\n",
        "    \n"
      ]
    },
    {
      "cell_type": "code",
      "execution_count": null,
      "metadata": {
        "colab": {
          "base_uri": "https://localhost:8080/"
        },
        "id": "YkZseWavkGvD",
        "outputId": "602fa148-1a9c-4cb8-f4d1-4f75b3f34f90"
      },
      "outputs": [
        {
          "output_type": "stream",
          "name": "stdout",
          "text": [
            "601\n",
            "607\n",
            "613\n",
            "617\n",
            "619\n",
            "631\n",
            "641\n",
            "643\n",
            "647\n",
            "653\n",
            "659\n",
            "661\n",
            "673\n",
            "677\n",
            "683\n",
            "691\n",
            "701\n",
            "709\n",
            "719\n",
            "727\n",
            "733\n",
            "739\n",
            "743\n",
            "751\n",
            "757\n",
            "761\n",
            "769\n",
            "773\n",
            "787\n",
            "797\n"
          ]
        }
      ],
      "source": [
        "for i in range(600,801):\n",
        "    # although 800 is also not prime but ok \n",
        "    f = True\n",
        "    for div in range(2,i//2+1):\n",
        "        if i % div == 0:\n",
        "            f = False\n",
        "            break\n",
        "    if f :\n",
        "        print(i)"
      ]
    },
    {
      "cell_type": "code",
      "execution_count": null,
      "metadata": {
        "colab": {
          "base_uri": "https://localhost:8080/"
        },
        "id": "2Ah6KZa_kGvD",
        "outputId": "ae091229-2dee-4d78-b9bf-02b691a3b4c3"
      },
      "outputs": [
        {
          "output_type": "stream",
          "name": "stdout",
          "text": [
            "126\n",
            "189\n",
            "252\n",
            "315\n",
            "378\n",
            "441\n",
            "504\n",
            "567\n",
            "630\n",
            "693\n",
            "756\n",
            "819\n",
            "882\n",
            "945\n"
          ]
        }
      ],
      "source": [
        "for i in range(100,1001):\n",
        "    if i% 7 ==0 and i % 9 ==0:\n",
        "        print(i)\n"
      ]
    },
    {
      "cell_type": "markdown",
      "metadata": {
        "id": "sxw4U1czkGvD"
      },
      "source": [
        "### Q5. WAP to create two lists of 10 random numbers between 10 and 30; Find \n",
        "1. Common numbers in the two lists\n",
        "2. Unique numbers in both the list\n",
        "3. Minimum in both the list\n",
        "4. Maximum in both the list\n",
        "5. Sum of both the lists"
      ]
    },
    {
      "cell_type": "code",
      "execution_count": null,
      "metadata": {
        "colab": {
          "base_uri": "https://localhost:8080/"
        },
        "id": "KweKiT5qkGvD",
        "outputId": "d379d594-c6f0-4dc5-ab39-3376dd426c5b"
      },
      "outputs": [
        {
          "output_type": "stream",
          "name": "stdout",
          "text": [
            "[24, 29, 30, 21, 19, 20, 11, 28, 26, 25]\n",
            "[14, 23, 18, 28, 20, 29, 16, 26, 13, 21]\n"
          ]
        }
      ],
      "source": [
        "l1 = r.sample(range(10,31),10)\n",
        "l2 = r.sample(range(10,31),10)\n",
        "print(l1)\n",
        "print(l2)\n"
      ]
    },
    {
      "cell_type": "code",
      "execution_count": null,
      "metadata": {
        "colab": {
          "base_uri": "https://localhost:8080/"
        },
        "id": "_S4epHEFkGvE",
        "outputId": "40471532-df01-400f-c211-a2b4de69ddfb"
      },
      "outputs": [
        {
          "output_type": "stream",
          "name": "stdout",
          "text": [
            "common {20, 21, 26, 28, 29}\n",
            "Unique {11, 13, 14, 16, 18, 19, 23, 24, 25, 30}\n",
            "11\n",
            "30\n",
            "466\n"
          ]
        }
      ],
      "source": [
        "print(\"common\",set(l1).intersection(set(l2)))\n",
        "print('Unique',set(l1).symmetric_difference(set(l2)))\n",
        "print(min(l1+l1))\n",
        "print(max(l1+l1))\n",
        "print(sum(l1+l1))\n"
      ]
    },
    {
      "cell_type": "markdown",
      "metadata": {
        "id": "_J9dVkVYkGvE"
      },
      "source": [
        "### Q6. WAP to create a list of 100 random numbers between 100 and 900. Count and print the: \n",
        "1. All odd numbers\n",
        "2. All even numbers\n",
        "3. All prime numbers\n"
      ]
    },
    {
      "cell_type": "code",
      "execution_count": null,
      "metadata": {
        "colab": {
          "base_uri": "https://localhost:8080/"
        },
        "id": "U1WRDfgykGvE",
        "outputId": "53162088-0378-44b5-e652-612f49a56fcc"
      },
      "outputs": [
        {
          "output_type": "stream",
          "name": "stdout",
          "text": [
            "Even 54 [102, 432, 256, 308, 258, 698, 472, 764, 852, 564, 642, 632, 140, 868, 498, 522, 326, 120, 822, 508, 628, 274, 826, 872, 542, 738, 160, 728, 602, 116, 730, 844, 252, 556, 626, 496, 124, 226, 378, 220, 212, 722, 452, 684, 828, 802, 414, 580, 372, 248, 514, 834, 788, 746]\n",
            "Odd 46 [657, 255, 743, 273, 435, 415, 593, 849, 243, 513, 277, 629, 495, 459, 229, 537, 867, 437, 457, 259, 337, 533, 367, 483, 491, 503, 707, 773, 121, 443, 131, 331, 685, 461, 595, 269, 117, 359, 761, 571, 413, 829, 469, 171, 499, 511]\n",
            "Prime 20 [743, 593, 277, 229, 457, 337, 367, 491, 503, 773, 443, 131, 331, 461, 269, 359, 761, 571, 829, 499]\n"
          ]
        }
      ],
      "source": [
        "sampleList = r.sample(range(100,901),100)\n",
        "evenL ,oddL,primeL =[],[],[]\n",
        "for num in sampleList:\n",
        "    if num % 2 == 0 :\n",
        "        evenL.append(num)\n",
        "    else:\n",
        "        oddL.append(num)\n",
        "        f = 1\n",
        "        for divs in range(2,num //2 +1 ):\n",
        "            if num % divs == 0:\n",
        "                f = 0\n",
        "                break\n",
        "        if f :\n",
        "            primeL.append(num)\n",
        "\n",
        "print(\"Even\", len(evenL),evenL)\n",
        "print(\"Odd\", len(oddL),oddL)\n",
        "print(\"Prime\", len(primeL),primeL)"
      ]
    },
    {
      "cell_type": "markdown",
      "metadata": {
        "id": "j7dtdq6-kGvF"
      },
      "source": [
        "### Q7. D is a dictionary defined as D={1:\"One\",2:\"Two\",3:\"Three\",4:\"Four\", 5:\"Five\"}. \n",
        " WAP to read all the keys and values from dictionary and write to the file in the given below format.\n",
        "* Key1, Value1 \n",
        "* Key2, Value2\n",
        "* Key3, Value3\n"
      ]
    },
    {
      "cell_type": "code",
      "execution_count": null,
      "metadata": {
        "colab": {
          "base_uri": "https://localhost:8080/"
        },
        "id": "z70IOr_MkGvF",
        "outputId": "f9bf2ae5-9672-4baf-fa2f-d9ba8d5f62c2"
      },
      "outputs": [
        {
          "output_type": "stream",
          "name": "stdout",
          "text": [
            "1,One\n",
            "2,Two\n",
            "3,Three\n",
            "4,Four\n",
            "5,Five\n",
            "\n"
          ]
        }
      ],
      "source": [
        "D={1:\"One\",2:\"Two\",3:\"Three\",4:\"Four\", 5:\"Five\"}\n",
        "s = ''''''\n",
        "for i in D:\n",
        "    s+= \"%d,%s\\n\"%(i,D[i])\n",
        "print(s)\n",
        "fp = open('Q7.txt','w')\n",
        "fp.write(s)\n",
        "fp.close()\n"
      ]
    },
    {
      "cell_type": "markdown",
      "source": [
        "###Q8. L is a list defined as L={\"One\",\"Two\",\"Three\",\"Four\",\"Five\"}.\n",
        "WAP to count the length of reach element from a list and write to the file in the given below format:<br>\n",
        "One, 3<br>\n",
        "Two, 3<br>\n",
        "Four, 4<br>"
      ],
      "metadata": {
        "id": "Je9TktiEB0Wr"
      }
    },
    {
      "cell_type": "code",
      "source": [
        "L=[\"One\",\"Two\",\"Three\",\"Four\",\"Five\"]\n",
        "fp = open('Q8.txt','w')\n",
        "for i in L:\n",
        "  fp.write('%s,%d\\n'%(i,len(i)))\n",
        "\n",
        "fp.close()"
      ],
      "metadata": {
        "id": "8h1PMouPB-Bj"
      },
      "execution_count": null,
      "outputs": []
    },
    {
      "cell_type": "markdown",
      "source": [
        "###Q9. Write to the file 100 random strings whose length between 10 and 15."
      ],
      "metadata": {
        "id": "SNr-vzRQDFM7"
      }
    },
    {
      "cell_type": "code",
      "source": [
        "fp = open('Q9.txt','w')\n",
        "\n",
        "for i in range(100):\n",
        "    size = r.randint(10,15)\n",
        "    sam = r.sample(letters,size)\n",
        "    rstr = ''.join(sam)\n",
        "    fp.write(rstr + '\\n')\n",
        "fp.close()"
      ],
      "metadata": {
        "id": "dEE26b73DNlN"
      },
      "execution_count": null,
      "outputs": []
    },
    {
      "cell_type": "markdown",
      "source": [
        "###Q10. Write to the file all prime numbers between 600 and 800."
      ],
      "metadata": {
        "id": "zgumBKDeEwpE"
      }
    },
    {
      "cell_type": "code",
      "source": [
        "fp = open('Q10.txt','w')\n",
        "for i in range(600,801):\n",
        "    # although 800 is also not prime but ok \n",
        "    f = True\n",
        "    for div in range(2,i//2+1):\n",
        "        if i % div == 0:\n",
        "            f = False\n",
        "            break\n",
        "    if f :\n",
        "        fp.write(str(i)+ ', ')\n",
        "fp.close()"
      ],
      "metadata": {
        "id": "ehW27ZfQE0Oe"
      },
      "execution_count": null,
      "outputs": []
    },
    {
      "cell_type": "markdown",
      "source": [
        "###Q11. WAP to calculate the time taken by a program.\n"
      ],
      "metadata": {
        "id": "X7d7nSoTFiuJ"
      }
    },
    {
      "cell_type": "code",
      "source": [
        "import time as t"
      ],
      "metadata": {
        "id": "j374f-IoFiZ1"
      },
      "execution_count": null,
      "outputs": []
    },
    {
      "cell_type": "code",
      "source": [
        "st ,et = t.time(),0\n",
        "for i in range(600,801):\n",
        "    # although 800 is also not prime but ok \n",
        "    f = True\n",
        "    for div in range(2,i//2+1):\n",
        "        if i % div == 0:\n",
        "            f = False\n",
        "            break\n",
        "    if f :\n",
        "        print(i,end='')\n",
        "et= t.time()\n",
        "print(\"time taken = \",et-st)"
      ],
      "metadata": {
        "colab": {
          "base_uri": "https://localhost:8080/"
        },
        "id": "F1C3_3brFwue",
        "outputId": "7236d37f-0b4a-490e-8f5a-f1419ae13af4"
      },
      "execution_count": null,
      "outputs": [
        {
          "output_type": "stream",
          "name": "stdout",
          "text": [
            "601607613617619631641643647653659661673677683691701709719727733739743751757761769773787797time taken =  0.013748645782470703\n"
          ]
        }
      ]
    },
    {
      "cell_type": "markdown",
      "source": [
        "###Q12. WAP to sort following number of elements in a list, calculate time taken and plot the graph.\n",
        "Number of elements in list Time Taken<br>\n",
        "5k | T1<br>\n",
        "10k| T2<br>\n",
        "15k| T3<br>\n",
        "20k| T4<br>\n",
        "25k| T5<br>\n"
      ],
      "metadata": {
        "id": "KhU24y3QGN2s"
      }
    },
    {
      "cell_type": "code",
      "source": [
        "p = [5,10,15,20,25]\n",
        "elements = []\n",
        "for i in p :\n",
        "  a = r.sample(range(0,30000),i*1000)\n",
        "  elements.append(a)\n",
        "\n",
        "y =[]\n",
        "for e in elements:\n",
        "  st = t.time()\n",
        "  sorted(e)\n",
        "  et = t.time()\n",
        "  y.append(et-st)\n",
        "print(y)\n",
        "import matplotlib.pyplot as plt\n",
        "\n",
        "plt.plot(p,y)\n",
        "plt.show()"
      ],
      "metadata": {
        "colab": {
          "base_uri": "https://localhost:8080/",
          "height": 448
        },
        "id": "zNj3UWAqGrZD",
        "outputId": "a5a75578-15e5-4f81-9d5e-7dd3d5aab7a2"
      },
      "execution_count": null,
      "outputs": [
        {
          "output_type": "stream",
          "name": "stdout",
          "text": [
            "[0.0008130073547363281, 0.0019292831420898438, 0.002908468246459961, 0.0040531158447265625, 0.00525665283203125]\n"
          ]
        },
        {
          "output_type": "display_data",
          "data": {
            "text/plain": [
              "<Figure size 640x480 with 1 Axes>"
            ],
            "image/png": "[encoded data removed]"
          },
          "metadata": {}
        }
      ]
    },
    {
      "cell_type": "markdown",
      "source": [
        "###Q13. WAP to create a dictionary of student marks in five subjects and you have to find the student having maximum and minimum average marks"
      ],
      "metadata": {
        "id": "goxX3PlLJHxI"
      }
    },
    {
      "cell_type": "code",
      "source": [
        "D={'student-1':[56,76,13,51,89],'student-2':[69,96,11,12,89],'student-3':[93,76,13,51,81],'student-4':[36,16,43,51,99]}"
      ],
      "metadata": {
        "id": "wK2syJ_JkmNt"
      },
      "execution_count": 1,
      "outputs": []
    },
    {
      "cell_type": "code",
      "source": [
        "mini,maxi = 100,0\n",
        "miniS,maxS ='',''\n",
        "for i in D:\n",
        "  avgM= sum(D[i])/len(D[i])\n",
        "  if avgM < mini:\n",
        "    miniS = i\n",
        "    mini = avgM\n",
        "  if avgM > maxi:\n",
        "    maxi = avgM\n",
        "    maxiS = i\n",
        "\n",
        "print('Maximum Avg is of %s and is %d'%(maxiS,maxi))\n",
        "print('Minimum Avg is of %s and is %d'%(miniS,mini))\n",
        "\n"
      ],
      "metadata": {
        "colab": {
          "base_uri": "https://localhost:8080/"
        },
        "id": "vEIQKyBjlQoc",
        "outputId": "c003b139-6c61-470f-c780-73aeaaafbef0"
      },
      "execution_count": 5,
      "outputs": [
        {
          "output_type": "stream",
          "name": "stdout",
          "text": [
            "Maximum Avg is of student-3 and is 62\n",
            "Minimum Avg is of student-4 and is 49\n"
          ]
        }
      ]
    },
    {
      "cell_type": "code",
      "source": [],
      "metadata": {
        "id": "YYJIRNc6mIPm"
      },
      "execution_count": null,
      "outputs": []
    }
  ],
  "metadata": {
    "kernelspec": {
      "display_name": "test",
      "language": "python",
      "name": "python3"
    },
    "language_info": {
      "codemirror_mode": {
        "name": "ipython",
        "version": 3
      },
      "file_extension": ".py",
      "mimetype": "text/x-python",
      "name": "python",
      "nbconvert_exporter": "python",
      "pygments_lexer": "ipython3",
      "version": "3.10.11"
    },
    "orig_nbformat": 4,
    "colab": {
      "provenance": [],
      "include_colab_link": true
    }
  },
  "nbformat": 4,
  "nbformat_minor": 0
}